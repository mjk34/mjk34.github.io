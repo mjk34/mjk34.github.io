{
 "cells": [
  {
   "cell_type": "code",
   "execution_count": 1,
   "id": "74bccc48",
   "metadata": {},
   "outputs": [
    {
     "name": "stdout",
     "output_type": "stream",
     "text": [
      "[OK] Your Python version is 3.10.9 (tags/v3.10.9:1dd9be6, Dec  6 2022, 20:01:21) [MSC v.1934 64 bit (AMD64)]\n",
      "[OK] numpy 1.24.2\n",
      "[OK] matplotlib 3.7.1\n",
      "[OK] sklearn 1.2.2\n",
      "[OK] pandas 1.5.3\n"
     ]
    }
   ],
   "source": [
    "from python_environment_check import check_packages\n",
    "d = {\n",
    "    'numpy': '1.21.2',\n",
    "    'matplotlib': '3.4.3',\n",
    "    'sklearn': '1.0',\n",
    "    'pandas': '1.3.2'\n",
    "}\n",
    "check_packages(d)"
   ]
  },
  {
   "cell_type": "code",
   "execution_count": 2,
   "id": "5387f674",
   "metadata": {},
   "outputs": [],
   "source": [
    "from IPython.display import Image\n",
    "%matplotlib inline\n",
    "\n",
    "from sklearn import datasets\n",
    "import pandas as pd\n",
    "import numpy as np\n",
    "import matplotlib.pyplot as plt"
   ]
  },
  {
   "cell_type": "markdown",
   "id": "729cd1bb",
   "metadata": {},
   "source": [
    "### Import Data"
   ]
  },
  {
   "cell_type": "markdown",
   "id": "ee26deee",
   "metadata": {},
   "source": [
    "Read from local csv"
   ]
  },
  {
   "cell_type": "code",
   "execution_count": 3,
   "id": "b2ad6843",
   "metadata": {
    "scrolled": false
   },
   "outputs": [
    {
     "data": {
      "text/html": [
       "<div>\n",
       "<style scoped>\n",
       "    .dataframe tbody tr th:only-of-type {\n",
       "        vertical-align: middle;\n",
       "    }\n",
       "\n",
       "    .dataframe tbody tr th {\n",
       "        vertical-align: top;\n",
       "    }\n",
       "\n",
       "    .dataframe thead th {\n",
       "        text-align: right;\n",
       "    }\n",
       "</style>\n",
       "<table border=\"1\" class=\"dataframe\">\n",
       "  <thead>\n",
       "    <tr style=\"text-align: right;\">\n",
       "      <th></th>\n",
       "      <th>Time</th>\n",
       "      <th>V1</th>\n",
       "      <th>V2</th>\n",
       "      <th>V3</th>\n",
       "      <th>V4</th>\n",
       "      <th>V5</th>\n",
       "      <th>V6</th>\n",
       "      <th>V7</th>\n",
       "      <th>V8</th>\n",
       "      <th>V9</th>\n",
       "      <th>...</th>\n",
       "      <th>V21</th>\n",
       "      <th>V22</th>\n",
       "      <th>V23</th>\n",
       "      <th>V24</th>\n",
       "      <th>V25</th>\n",
       "      <th>V26</th>\n",
       "      <th>V27</th>\n",
       "      <th>V28</th>\n",
       "      <th>Amount</th>\n",
       "      <th>Class</th>\n",
       "    </tr>\n",
       "  </thead>\n",
       "  <tbody>\n",
       "    <tr>\n",
       "      <th>0</th>\n",
       "      <td>0.0</td>\n",
       "      <td>-1.359807</td>\n",
       "      <td>-0.072781</td>\n",
       "      <td>2.536347</td>\n",
       "      <td>1.378155</td>\n",
       "      <td>-0.338321</td>\n",
       "      <td>0.462388</td>\n",
       "      <td>0.239599</td>\n",
       "      <td>0.098698</td>\n",
       "      <td>0.363787</td>\n",
       "      <td>...</td>\n",
       "      <td>-0.018307</td>\n",
       "      <td>0.277838</td>\n",
       "      <td>-0.110474</td>\n",
       "      <td>0.066928</td>\n",
       "      <td>0.128539</td>\n",
       "      <td>-0.189115</td>\n",
       "      <td>0.133558</td>\n",
       "      <td>-0.021053</td>\n",
       "      <td>149.62</td>\n",
       "      <td>0</td>\n",
       "    </tr>\n",
       "    <tr>\n",
       "      <th>1</th>\n",
       "      <td>0.0</td>\n",
       "      <td>1.191857</td>\n",
       "      <td>0.266151</td>\n",
       "      <td>0.166480</td>\n",
       "      <td>0.448154</td>\n",
       "      <td>0.060018</td>\n",
       "      <td>-0.082361</td>\n",
       "      <td>-0.078803</td>\n",
       "      <td>0.085102</td>\n",
       "      <td>-0.255425</td>\n",
       "      <td>...</td>\n",
       "      <td>-0.225775</td>\n",
       "      <td>-0.638672</td>\n",
       "      <td>0.101288</td>\n",
       "      <td>-0.339846</td>\n",
       "      <td>0.167170</td>\n",
       "      <td>0.125895</td>\n",
       "      <td>-0.008983</td>\n",
       "      <td>0.014724</td>\n",
       "      <td>2.69</td>\n",
       "      <td>0</td>\n",
       "    </tr>\n",
       "    <tr>\n",
       "      <th>2</th>\n",
       "      <td>1.0</td>\n",
       "      <td>-1.358354</td>\n",
       "      <td>-1.340163</td>\n",
       "      <td>1.773209</td>\n",
       "      <td>0.379780</td>\n",
       "      <td>-0.503198</td>\n",
       "      <td>1.800499</td>\n",
       "      <td>0.791461</td>\n",
       "      <td>0.247676</td>\n",
       "      <td>-1.514654</td>\n",
       "      <td>...</td>\n",
       "      <td>0.247998</td>\n",
       "      <td>0.771679</td>\n",
       "      <td>0.909412</td>\n",
       "      <td>-0.689281</td>\n",
       "      <td>-0.327642</td>\n",
       "      <td>-0.139097</td>\n",
       "      <td>-0.055353</td>\n",
       "      <td>-0.059752</td>\n",
       "      <td>378.66</td>\n",
       "      <td>0</td>\n",
       "    </tr>\n",
       "    <tr>\n",
       "      <th>3</th>\n",
       "      <td>1.0</td>\n",
       "      <td>-0.966272</td>\n",
       "      <td>-0.185226</td>\n",
       "      <td>1.792993</td>\n",
       "      <td>-0.863291</td>\n",
       "      <td>-0.010309</td>\n",
       "      <td>1.247203</td>\n",
       "      <td>0.237609</td>\n",
       "      <td>0.377436</td>\n",
       "      <td>-1.387024</td>\n",
       "      <td>...</td>\n",
       "      <td>-0.108300</td>\n",
       "      <td>0.005274</td>\n",
       "      <td>-0.190321</td>\n",
       "      <td>-1.175575</td>\n",
       "      <td>0.647376</td>\n",
       "      <td>-0.221929</td>\n",
       "      <td>0.062723</td>\n",
       "      <td>0.061458</td>\n",
       "      <td>123.50</td>\n",
       "      <td>0</td>\n",
       "    </tr>\n",
       "    <tr>\n",
       "      <th>4</th>\n",
       "      <td>2.0</td>\n",
       "      <td>-1.158233</td>\n",
       "      <td>0.877737</td>\n",
       "      <td>1.548718</td>\n",
       "      <td>0.403034</td>\n",
       "      <td>-0.407193</td>\n",
       "      <td>0.095921</td>\n",
       "      <td>0.592941</td>\n",
       "      <td>-0.270533</td>\n",
       "      <td>0.817739</td>\n",
       "      <td>...</td>\n",
       "      <td>-0.009431</td>\n",
       "      <td>0.798278</td>\n",
       "      <td>-0.137458</td>\n",
       "      <td>0.141267</td>\n",
       "      <td>-0.206010</td>\n",
       "      <td>0.502292</td>\n",
       "      <td>0.219422</td>\n",
       "      <td>0.215153</td>\n",
       "      <td>69.99</td>\n",
       "      <td>0</td>\n",
       "    </tr>\n",
       "  </tbody>\n",
       "</table>\n",
       "<p>5 rows × 31 columns</p>\n",
       "</div>"
      ],
      "text/plain": [
       "   Time        V1        V2        V3        V4        V5        V6        V7  \\\n",
       "0   0.0 -1.359807 -0.072781  2.536347  1.378155 -0.338321  0.462388  0.239599   \n",
       "1   0.0  1.191857  0.266151  0.166480  0.448154  0.060018 -0.082361 -0.078803   \n",
       "2   1.0 -1.358354 -1.340163  1.773209  0.379780 -0.503198  1.800499  0.791461   \n",
       "3   1.0 -0.966272 -0.185226  1.792993 -0.863291 -0.010309  1.247203  0.237609   \n",
       "4   2.0 -1.158233  0.877737  1.548718  0.403034 -0.407193  0.095921  0.592941   \n",
       "\n",
       "         V8        V9  ...       V21       V22       V23       V24       V25  \\\n",
       "0  0.098698  0.363787  ... -0.018307  0.277838 -0.110474  0.066928  0.128539   \n",
       "1  0.085102 -0.255425  ... -0.225775 -0.638672  0.101288 -0.339846  0.167170   \n",
       "2  0.247676 -1.514654  ...  0.247998  0.771679  0.909412 -0.689281 -0.327642   \n",
       "3  0.377436 -1.387024  ... -0.108300  0.005274 -0.190321 -1.175575  0.647376   \n",
       "4 -0.270533  0.817739  ... -0.009431  0.798278 -0.137458  0.141267 -0.206010   \n",
       "\n",
       "        V26       V27       V28  Amount  Class  \n",
       "0 -0.189115  0.133558 -0.021053  149.62      0  \n",
       "1  0.125895 -0.008983  0.014724    2.69      0  \n",
       "2 -0.139097 -0.055353 -0.059752  378.66      0  \n",
       "3 -0.221929  0.062723  0.061458  123.50      0  \n",
       "4  0.502292  0.219422  0.215153   69.99      0  \n",
       "\n",
       "[5 rows x 31 columns]"
      ]
     },
     "execution_count": 3,
     "metadata": {},
     "output_type": "execute_result"
    }
   ],
   "source": [
    "# Load the dataset\n",
    "df = pd.read_csv('creditcard.csv')\n",
    "df.head()"
   ]
  },
  {
   "cell_type": "markdown",
   "id": "5db9ca65",
   "metadata": {},
   "source": [
    "Features V1, V2, … V28 are the principal components obtained with PCA.\n",
    "\n",
    "The only features which have not been transformed with PCA are 'Time' and 'Amount'. \n",
    "\n",
    "Feature 'Time' contains the seconds elapsed between each transaction and the first transaction in the dataset.\n",
    "\n",
    "Feature 'Class' is the response variable and it takes value 1 in case of fraud and 0 otherwise. "
   ]
  },
  {
   "cell_type": "code",
   "execution_count": 4,
   "id": "449152b6",
   "metadata": {
    "scrolled": true
   },
   "outputs": [
    {
     "data": {
      "text/html": [
       "<div>\n",
       "<style scoped>\n",
       "    .dataframe tbody tr th:only-of-type {\n",
       "        vertical-align: middle;\n",
       "    }\n",
       "\n",
       "    .dataframe tbody tr th {\n",
       "        vertical-align: top;\n",
       "    }\n",
       "\n",
       "    .dataframe thead th {\n",
       "        text-align: right;\n",
       "    }\n",
       "</style>\n",
       "<table border=\"1\" class=\"dataframe\">\n",
       "  <thead>\n",
       "    <tr style=\"text-align: right;\">\n",
       "      <th></th>\n",
       "      <th>Time</th>\n",
       "      <th>V1</th>\n",
       "      <th>V2</th>\n",
       "      <th>V3</th>\n",
       "      <th>V4</th>\n",
       "      <th>V5</th>\n",
       "      <th>V6</th>\n",
       "      <th>V7</th>\n",
       "      <th>V8</th>\n",
       "      <th>V9</th>\n",
       "      <th>...</th>\n",
       "      <th>V21</th>\n",
       "      <th>V22</th>\n",
       "      <th>V23</th>\n",
       "      <th>V24</th>\n",
       "      <th>V25</th>\n",
       "      <th>V26</th>\n",
       "      <th>V27</th>\n",
       "      <th>V28</th>\n",
       "      <th>Amount</th>\n",
       "      <th>Class</th>\n",
       "    </tr>\n",
       "  </thead>\n",
       "  <tbody>\n",
       "    <tr>\n",
       "      <th>count</th>\n",
       "      <td>284807.000000</td>\n",
       "      <td>2.848070e+05</td>\n",
       "      <td>2.848070e+05</td>\n",
       "      <td>2.848070e+05</td>\n",
       "      <td>2.848070e+05</td>\n",
       "      <td>2.848070e+05</td>\n",
       "      <td>2.848070e+05</td>\n",
       "      <td>2.848070e+05</td>\n",
       "      <td>2.848070e+05</td>\n",
       "      <td>2.848070e+05</td>\n",
       "      <td>...</td>\n",
       "      <td>2.848070e+05</td>\n",
       "      <td>2.848070e+05</td>\n",
       "      <td>2.848070e+05</td>\n",
       "      <td>2.848070e+05</td>\n",
       "      <td>2.848070e+05</td>\n",
       "      <td>2.848070e+05</td>\n",
       "      <td>2.848070e+05</td>\n",
       "      <td>2.848070e+05</td>\n",
       "      <td>284807.000000</td>\n",
       "      <td>284807.000000</td>\n",
       "    </tr>\n",
       "    <tr>\n",
       "      <th>mean</th>\n",
       "      <td>94813.859575</td>\n",
       "      <td>1.168375e-15</td>\n",
       "      <td>3.416908e-16</td>\n",
       "      <td>-1.379537e-15</td>\n",
       "      <td>2.074095e-15</td>\n",
       "      <td>9.604066e-16</td>\n",
       "      <td>1.487313e-15</td>\n",
       "      <td>-5.556467e-16</td>\n",
       "      <td>1.213481e-16</td>\n",
       "      <td>-2.406331e-15</td>\n",
       "      <td>...</td>\n",
       "      <td>1.654067e-16</td>\n",
       "      <td>-3.568593e-16</td>\n",
       "      <td>2.578648e-16</td>\n",
       "      <td>4.473266e-15</td>\n",
       "      <td>5.340915e-16</td>\n",
       "      <td>1.683437e-15</td>\n",
       "      <td>-3.660091e-16</td>\n",
       "      <td>-1.227390e-16</td>\n",
       "      <td>88.349619</td>\n",
       "      <td>0.001727</td>\n",
       "    </tr>\n",
       "    <tr>\n",
       "      <th>std</th>\n",
       "      <td>47488.145955</td>\n",
       "      <td>1.958696e+00</td>\n",
       "      <td>1.651309e+00</td>\n",
       "      <td>1.516255e+00</td>\n",
       "      <td>1.415869e+00</td>\n",
       "      <td>1.380247e+00</td>\n",
       "      <td>1.332271e+00</td>\n",
       "      <td>1.237094e+00</td>\n",
       "      <td>1.194353e+00</td>\n",
       "      <td>1.098632e+00</td>\n",
       "      <td>...</td>\n",
       "      <td>7.345240e-01</td>\n",
       "      <td>7.257016e-01</td>\n",
       "      <td>6.244603e-01</td>\n",
       "      <td>6.056471e-01</td>\n",
       "      <td>5.212781e-01</td>\n",
       "      <td>4.822270e-01</td>\n",
       "      <td>4.036325e-01</td>\n",
       "      <td>3.300833e-01</td>\n",
       "      <td>250.120109</td>\n",
       "      <td>0.041527</td>\n",
       "    </tr>\n",
       "    <tr>\n",
       "      <th>min</th>\n",
       "      <td>0.000000</td>\n",
       "      <td>-5.640751e+01</td>\n",
       "      <td>-7.271573e+01</td>\n",
       "      <td>-4.832559e+01</td>\n",
       "      <td>-5.683171e+00</td>\n",
       "      <td>-1.137433e+02</td>\n",
       "      <td>-2.616051e+01</td>\n",
       "      <td>-4.355724e+01</td>\n",
       "      <td>-7.321672e+01</td>\n",
       "      <td>-1.343407e+01</td>\n",
       "      <td>...</td>\n",
       "      <td>-3.483038e+01</td>\n",
       "      <td>-1.093314e+01</td>\n",
       "      <td>-4.480774e+01</td>\n",
       "      <td>-2.836627e+00</td>\n",
       "      <td>-1.029540e+01</td>\n",
       "      <td>-2.604551e+00</td>\n",
       "      <td>-2.256568e+01</td>\n",
       "      <td>-1.543008e+01</td>\n",
       "      <td>0.000000</td>\n",
       "      <td>0.000000</td>\n",
       "    </tr>\n",
       "    <tr>\n",
       "      <th>25%</th>\n",
       "      <td>54201.500000</td>\n",
       "      <td>-9.203734e-01</td>\n",
       "      <td>-5.985499e-01</td>\n",
       "      <td>-8.903648e-01</td>\n",
       "      <td>-8.486401e-01</td>\n",
       "      <td>-6.915971e-01</td>\n",
       "      <td>-7.682956e-01</td>\n",
       "      <td>-5.540759e-01</td>\n",
       "      <td>-2.086297e-01</td>\n",
       "      <td>-6.430976e-01</td>\n",
       "      <td>...</td>\n",
       "      <td>-2.283949e-01</td>\n",
       "      <td>-5.423504e-01</td>\n",
       "      <td>-1.618463e-01</td>\n",
       "      <td>-3.545861e-01</td>\n",
       "      <td>-3.171451e-01</td>\n",
       "      <td>-3.269839e-01</td>\n",
       "      <td>-7.083953e-02</td>\n",
       "      <td>-5.295979e-02</td>\n",
       "      <td>5.600000</td>\n",
       "      <td>0.000000</td>\n",
       "    </tr>\n",
       "    <tr>\n",
       "      <th>50%</th>\n",
       "      <td>84692.000000</td>\n",
       "      <td>1.810880e-02</td>\n",
       "      <td>6.548556e-02</td>\n",
       "      <td>1.798463e-01</td>\n",
       "      <td>-1.984653e-02</td>\n",
       "      <td>-5.433583e-02</td>\n",
       "      <td>-2.741871e-01</td>\n",
       "      <td>4.010308e-02</td>\n",
       "      <td>2.235804e-02</td>\n",
       "      <td>-5.142873e-02</td>\n",
       "      <td>...</td>\n",
       "      <td>-2.945017e-02</td>\n",
       "      <td>6.781943e-03</td>\n",
       "      <td>-1.119293e-02</td>\n",
       "      <td>4.097606e-02</td>\n",
       "      <td>1.659350e-02</td>\n",
       "      <td>-5.213911e-02</td>\n",
       "      <td>1.342146e-03</td>\n",
       "      <td>1.124383e-02</td>\n",
       "      <td>22.000000</td>\n",
       "      <td>0.000000</td>\n",
       "    </tr>\n",
       "    <tr>\n",
       "      <th>75%</th>\n",
       "      <td>139320.500000</td>\n",
       "      <td>1.315642e+00</td>\n",
       "      <td>8.037239e-01</td>\n",
       "      <td>1.027196e+00</td>\n",
       "      <td>7.433413e-01</td>\n",
       "      <td>6.119264e-01</td>\n",
       "      <td>3.985649e-01</td>\n",
       "      <td>5.704361e-01</td>\n",
       "      <td>3.273459e-01</td>\n",
       "      <td>5.971390e-01</td>\n",
       "      <td>...</td>\n",
       "      <td>1.863772e-01</td>\n",
       "      <td>5.285536e-01</td>\n",
       "      <td>1.476421e-01</td>\n",
       "      <td>4.395266e-01</td>\n",
       "      <td>3.507156e-01</td>\n",
       "      <td>2.409522e-01</td>\n",
       "      <td>9.104512e-02</td>\n",
       "      <td>7.827995e-02</td>\n",
       "      <td>77.165000</td>\n",
       "      <td>0.000000</td>\n",
       "    </tr>\n",
       "    <tr>\n",
       "      <th>max</th>\n",
       "      <td>172792.000000</td>\n",
       "      <td>2.454930e+00</td>\n",
       "      <td>2.205773e+01</td>\n",
       "      <td>9.382558e+00</td>\n",
       "      <td>1.687534e+01</td>\n",
       "      <td>3.480167e+01</td>\n",
       "      <td>7.330163e+01</td>\n",
       "      <td>1.205895e+02</td>\n",
       "      <td>2.000721e+01</td>\n",
       "      <td>1.559499e+01</td>\n",
       "      <td>...</td>\n",
       "      <td>2.720284e+01</td>\n",
       "      <td>1.050309e+01</td>\n",
       "      <td>2.252841e+01</td>\n",
       "      <td>4.584549e+00</td>\n",
       "      <td>7.519589e+00</td>\n",
       "      <td>3.517346e+00</td>\n",
       "      <td>3.161220e+01</td>\n",
       "      <td>3.384781e+01</td>\n",
       "      <td>25691.160000</td>\n",
       "      <td>1.000000</td>\n",
       "    </tr>\n",
       "  </tbody>\n",
       "</table>\n",
       "<p>8 rows × 31 columns</p>\n",
       "</div>"
      ],
      "text/plain": [
       "                Time            V1            V2            V3            V4  \\\n",
       "count  284807.000000  2.848070e+05  2.848070e+05  2.848070e+05  2.848070e+05   \n",
       "mean    94813.859575  1.168375e-15  3.416908e-16 -1.379537e-15  2.074095e-15   \n",
       "std     47488.145955  1.958696e+00  1.651309e+00  1.516255e+00  1.415869e+00   \n",
       "min         0.000000 -5.640751e+01 -7.271573e+01 -4.832559e+01 -5.683171e+00   \n",
       "25%     54201.500000 -9.203734e-01 -5.985499e-01 -8.903648e-01 -8.486401e-01   \n",
       "50%     84692.000000  1.810880e-02  6.548556e-02  1.798463e-01 -1.984653e-02   \n",
       "75%    139320.500000  1.315642e+00  8.037239e-01  1.027196e+00  7.433413e-01   \n",
       "max    172792.000000  2.454930e+00  2.205773e+01  9.382558e+00  1.687534e+01   \n",
       "\n",
       "                 V5            V6            V7            V8            V9  \\\n",
       "count  2.848070e+05  2.848070e+05  2.848070e+05  2.848070e+05  2.848070e+05   \n",
       "mean   9.604066e-16  1.487313e-15 -5.556467e-16  1.213481e-16 -2.406331e-15   \n",
       "std    1.380247e+00  1.332271e+00  1.237094e+00  1.194353e+00  1.098632e+00   \n",
       "min   -1.137433e+02 -2.616051e+01 -4.355724e+01 -7.321672e+01 -1.343407e+01   \n",
       "25%   -6.915971e-01 -7.682956e-01 -5.540759e-01 -2.086297e-01 -6.430976e-01   \n",
       "50%   -5.433583e-02 -2.741871e-01  4.010308e-02  2.235804e-02 -5.142873e-02   \n",
       "75%    6.119264e-01  3.985649e-01  5.704361e-01  3.273459e-01  5.971390e-01   \n",
       "max    3.480167e+01  7.330163e+01  1.205895e+02  2.000721e+01  1.559499e+01   \n",
       "\n",
       "       ...           V21           V22           V23           V24  \\\n",
       "count  ...  2.848070e+05  2.848070e+05  2.848070e+05  2.848070e+05   \n",
       "mean   ...  1.654067e-16 -3.568593e-16  2.578648e-16  4.473266e-15   \n",
       "std    ...  7.345240e-01  7.257016e-01  6.244603e-01  6.056471e-01   \n",
       "min    ... -3.483038e+01 -1.093314e+01 -4.480774e+01 -2.836627e+00   \n",
       "25%    ... -2.283949e-01 -5.423504e-01 -1.618463e-01 -3.545861e-01   \n",
       "50%    ... -2.945017e-02  6.781943e-03 -1.119293e-02  4.097606e-02   \n",
       "75%    ...  1.863772e-01  5.285536e-01  1.476421e-01  4.395266e-01   \n",
       "max    ...  2.720284e+01  1.050309e+01  2.252841e+01  4.584549e+00   \n",
       "\n",
       "                V25           V26           V27           V28         Amount  \\\n",
       "count  2.848070e+05  2.848070e+05  2.848070e+05  2.848070e+05  284807.000000   \n",
       "mean   5.340915e-16  1.683437e-15 -3.660091e-16 -1.227390e-16      88.349619   \n",
       "std    5.212781e-01  4.822270e-01  4.036325e-01  3.300833e-01     250.120109   \n",
       "min   -1.029540e+01 -2.604551e+00 -2.256568e+01 -1.543008e+01       0.000000   \n",
       "25%   -3.171451e-01 -3.269839e-01 -7.083953e-02 -5.295979e-02       5.600000   \n",
       "50%    1.659350e-02 -5.213911e-02  1.342146e-03  1.124383e-02      22.000000   \n",
       "75%    3.507156e-01  2.409522e-01  9.104512e-02  7.827995e-02      77.165000   \n",
       "max    7.519589e+00  3.517346e+00  3.161220e+01  3.384781e+01   25691.160000   \n",
       "\n",
       "               Class  \n",
       "count  284807.000000  \n",
       "mean        0.001727  \n",
       "std         0.041527  \n",
       "min         0.000000  \n",
       "25%         0.000000  \n",
       "50%         0.000000  \n",
       "75%         0.000000  \n",
       "max         1.000000  \n",
       "\n",
       "[8 rows x 31 columns]"
      ]
     },
     "execution_count": 4,
     "metadata": {},
     "output_type": "execute_result"
    }
   ],
   "source": [
    "df.describe()"
   ]
  },
  {
   "cell_type": "markdown",
   "id": "ce469937",
   "metadata": {},
   "source": [
    "### Check for Missing Values"
   ]
  },
  {
   "cell_type": "code",
   "execution_count": 5,
   "id": "f9d391aa",
   "metadata": {},
   "outputs": [
    {
     "name": "stdout",
     "output_type": "stream",
     "text": [
      "[0, 0, 0, 0, 0, 0, 0, 0, 0, 0, 0, 0, 0, 0, 0, 0, 0, 0, 0, 0, 0, 0, 0, 0, 0, 0, 0, 0, 0, 0, 0]\n"
     ]
    },
    {
     "data": {
      "text/plain": [
       "Time      0\n",
       "V1        0\n",
       "V2        0\n",
       "V3        0\n",
       "V4        0\n",
       "V5        0\n",
       "V6        0\n",
       "V7        0\n",
       "V8        0\n",
       "V9        0\n",
       "V10       0\n",
       "V11       0\n",
       "V12       0\n",
       "V13       0\n",
       "V14       0\n",
       "V15       0\n",
       "V16       0\n",
       "V17       0\n",
       "V18       0\n",
       "V19       0\n",
       "V20       0\n",
       "V21       0\n",
       "V22       0\n",
       "V23       0\n",
       "V24       0\n",
       "V25       0\n",
       "V26       0\n",
       "V27       0\n",
       "V28       0\n",
       "Amount    0\n",
       "Class     0\n",
       "dtype: int64"
      ]
     },
     "execution_count": 5,
     "metadata": {},
     "output_type": "execute_result"
    }
   ],
   "source": [
    "# manual implementation\n",
    "feature_missing = []\n",
    "for i in range(len(df.columns)):\n",
    "    missing = 0\n",
    "    for j in df[df.columns[i]]:\n",
    "        if j == None: missing += 1\n",
    "    feature_missing.append(missing)\n",
    "        \n",
    "print(feature_missing)\n",
    "\n",
    "# # built in implementation\n",
    "df.isnull().sum()"
   ]
  },
  {
   "cell_type": "markdown",
   "id": "76cd4c98",
   "metadata": {},
   "source": [
    "No expected missing or null data, check both manually and using pandas"
   ]
  },
  {
   "cell_type": "markdown",
   "id": "aa3571ba",
   "metadata": {},
   "source": [
    "### Partition Data"
   ]
  },
  {
   "cell_type": "markdown",
   "id": "05911037",
   "metadata": {},
   "source": [
    "Split the data into 70-30 Training-Testing Sets, standardize features using StandardScaler so the values are scaled around 1 standard deviation of the mean"
   ]
  },
  {
   "cell_type": "code",
   "execution_count": 6,
   "id": "6ed8f8ec",
   "metadata": {},
   "outputs": [
    {
     "name": "stdout",
     "output_type": "stream",
     "text": [
      "Counter({0: 284315, 1: 492})\n"
     ]
    }
   ],
   "source": [
    "from collections import Counter\n",
    "\n",
    "print(Counter(df.iloc[:, -1])) # class 1 = fraud\n",
    "\n",
    "from sklearn.model_selection import train_test_split\n",
    "from sklearn.preprocessing import StandardScaler\n",
    "\n",
    "X, y = df.iloc[:, :-1].values, df.iloc[:, -1]\n",
    "\n",
    "def partitionDF (X, y):\n",
    "    X_train, X_test, y_train, y_test = \\\n",
    "        train_test_split(X, y, test_size=0.3, \n",
    "                         stratify=y,\n",
    "                         random_state=0)\n",
    "\n",
    "    sc = StandardScaler()\n",
    "    X_train_std = sc.fit_transform(X_train)\n",
    "    X_test_std = sc.transform(X_test)\n",
    "    return X_train_std, X_test_std, y_train, y_test\n",
    "\n",
    "X_train_std, X_test_std, y_train, y_test = partitionDF(X, y)"
   ]
  },
  {
   "cell_type": "markdown",
   "id": "3226bfb6",
   "metadata": {},
   "source": [
    "### Dimensionality Reduction"
   ]
  },
  {
   "cell_type": "markdown",
   "id": "aca32fdf",
   "metadata": {},
   "source": [
    "Because there are an overwelming number of features/dimensions, we would normally want to reduce its size and select the most important features to improve runtime and performance. The problem with using eigenvalues or PCA is that Features V1, V2, … V28 are the result of PCA transformation and the amount of information/meaning between those features is equally spread out. This can be seen below:"
   ]
  },
  {
   "cell_type": "code",
   "execution_count": 7,
   "id": "80108672",
   "metadata": {},
   "outputs": [
    {
     "data": {
      "image/png": "[encoded data removed]",
      "text/plain": [
       "<Figure size 640x480 with 1 Axes>"
      ]
     },
     "metadata": {},
     "output_type": "display_data"
    }
   ],
   "source": [
    "cov_mat = np.cov(X_train_std.T)\n",
    "eigen_vals, eigen_vecs = np.linalg.eig(cov_mat)\n",
    "\n",
    "tot = sum(eigen_vals)\n",
    "var_exp = [(i / tot) for i in sorted(eigen_vals, reverse=True)]\n",
    "cum_var_exp = np.cumsum(var_exp)\n",
    "\n",
    "plt.bar(range(1, len(df.columns)), var_exp, align='center', label='Individual explained variance')\n",
    "plt.step(range(1, len(df.columns)), cum_var_exp, where='mid', label='Cumulative explained variance')\n",
    "plt.ylabel('Explained variance ratio')\n",
    "plt.xlabel('Principal component index')\n",
    "plt.legend(loc='best')\n",
    "plt.tight_layout()\n",
    "\n",
    "plt.show()"
   ]
  },
  {
   "cell_type": "markdown",
   "id": "c00bf9e9",
   "metadata": {},
   "source": [
    "Using RandomForest Feature Importance to determine most dominant columns"
   ]
  },
  {
   "cell_type": "code",
   "execution_count": 8,
   "id": "b099ab9e",
   "metadata": {},
   "outputs": [],
   "source": [
    "from sklearn.ensemble import RandomForestClassifier\n",
    "\n",
    "rf = RandomForestClassifier(max_depth=10, random_state=0, n_estimators=100, criterion=\"gini\")\n",
    "rf.fit(X_train_std, y_train)\n",
    "\n",
    "importance = pd.DataFrame({\n",
    "    'Feature': df.columns[:-1], \n",
    "    'Feature Importance': rf.feature_importances_\n",
    "})\n",
    "\n",
    "importance = importance.sort_values(by='Feature Importance', ascending=False)"
   ]
  },
  {
   "cell_type": "code",
   "execution_count": 9,
   "id": "10dd9b76",
   "metadata": {
    "scrolled": false
   },
   "outputs": [
    {
     "data": {
      "image/png": "[encoded data removed]",
      "text/plain": [
       "<Figure size 1500x400 with 1 Axes>"
      ]
     },
     "metadata": {},
     "output_type": "display_data"
    }
   ],
   "source": [
    "# Adding axes annotations\n",
    "fig = plt.figure(figsize=(15,4))\n",
    "plt.bar(importance['Feature'], importance['Feature Importance'], width=0.8)\n",
    "plt.xlabel('Features')\n",
    "plt.ylabel('Importance')\n",
    "plt.title('RandomForest - Feature Importance')\n",
    "plt.show()"
   ]
  },
  {
   "cell_type": "code",
   "execution_count": 10,
   "id": "63209e28",
   "metadata": {
    "scrolled": false
   },
   "outputs": [
    {
     "name": "stdout",
     "output_type": "stream",
     "text": [
      "First 6 Features: 0.7153106334905391\n"
     ]
    }
   ],
   "source": [
    "print('First 6 Features: ', end='')\n",
    "print(importance['Feature Importance'][17] + importance['Feature Importance'][12] + importance['Feature Importance'][14] + importance['Feature Importance'][10] + importance['Feature Importance'][16] + importance['Feature Importance'][11])"
   ]
  },
  {
   "cell_type": "markdown",
   "id": "ab8225a3",
   "metadata": {},
   "source": [
    "Based on RandomForest Feature Importance, should we take the first 6 features: V17, V12, V14, V10, V16, V11. We can retain above 70% of the information using only 1/4th of the features"
   ]
  },
  {
   "cell_type": "markdown",
   "id": "7e54307f",
   "metadata": {},
   "source": [
    "### Partition/Scale Selected Features"
   ]
  },
  {
   "cell_type": "markdown",
   "id": "30004647",
   "metadata": {},
   "source": [
    "Create a separate split with the selected features from above, compare accuracy and runtime results to all features"
   ]
  },
  {
   "cell_type": "code",
   "execution_count": 11,
   "id": "8d50db4b",
   "metadata": {},
   "outputs": [
    {
     "name": "stdout",
     "output_type": "stream",
     "text": [
      "All Features: 30\n",
      "\n",
      "Selected Feature Values: 6\n",
      "[[ 0.20797124 -0.61780086 -0.31116935  0.09079417 -0.47040053 -0.55159953]\n",
      " [-0.11480466  1.06523531 -0.1437723  -0.16697441  0.46391704  1.61272666]\n",
      " [ 1.10996938  0.06608369 -0.16594592  0.20764287 -2.89008319  0.62450146]\n",
      " ...\n",
      " [ 0.31350179  0.06311886 -0.51060184 -0.48478176  0.14071598  0.41161374]\n",
      " [ 0.50992846 -0.96288614  0.44962444 -0.39912565 -0.60857713 -1.93384882]\n",
      " [-0.66037665 -0.03151305 -0.08431647 -0.91542665 -0.30262009 -1.04045834]]\n"
     ]
    }
   ],
   "source": [
    "print('All Features:', len(df.iloc[:, :-1].values[0]))\n",
    "X, y = df.iloc[:, :-1].values, df.iloc[:, -1]\n",
    "X_train_std, X_test_std, y_train, y_test = partitionDF(X, y)\n",
    "\n",
    "print('\\nSelected Feature Values:', len(df[['V17', 'V12', 'V14', 'V10', 'V16', 'V11']].values[0]))\n",
    "print(df[['V17', 'V12', 'V14', 'V10', 'V16', 'V11']].values)\n",
    "X1, y1 = df[['V17', 'V12', 'V14', 'V10', 'V16', 'V11']].values, df['Class']\n",
    "X1_train_std, X1_test_std, y1_train, y1_test = partitionDF(X1, y1)"
   ]
  },
  {
   "cell_type": "markdown",
   "id": "2419df69",
   "metadata": {},
   "source": [
    "### Modeling "
   ]
  },
  {
   "cell_type": "markdown",
   "id": "67eb8b61",
   "metadata": {},
   "source": [
    "For machine learning models, we will look to optimize Logistic Regression for model comparisons. Logistic regression is great for binary classification, in this case: whether the transaction was fraudulent or legitimate.\n",
    "\n",
    "Additional models that might be of interest for exploration may be:\n",
    "\n",
    "[Random Forest]: We utilized part of the random forest classifier for feature selection, overall this model is really powerful\n",
    "    \n",
    "[Support Vector Machines]: SVM is also a common classification model and might come in handy because we have pca feature values that are complicated and difficult to linearly separate\n",
    "    \n",
    "[Gradient Boosting]: A popular model that can handle a large dataset and provides high accuracy\n",
    "    \n",
    "[Neural Networks]: A complex model that can provide high accuracy"
   ]
  },
  {
   "cell_type": "code",
   "execution_count": 12,
   "id": "e8731f8c",
   "metadata": {
    "scrolled": false
   },
   "outputs": [
    {
     "name": "stdout",
     "output_type": "stream",
     "text": [
      "All Feature Train\n",
      "   Logistic Regression Train Time: 0.646 seconds\n",
      "   Suppor Vector Machine Train Time: 75.380 seconds\n",
      "   Random Forest Train Time: 4.765 seconds\n",
      "\n",
      "Selected Feature Train\n",
      "   Logistic Regression Train Time: 0.247 seconds\n",
      "   Suppor Vector Machine Train Time: 190.861 seconds\n",
      "   Random Forest Train Time: 1.907 seconds\n"
     ]
    }
   ],
   "source": [
    "from sklearn.linear_model import LogisticRegression\n",
    "from sklearn.svm import SVC\n",
    "from sklearn.ensemble import RandomForestClassifier\n",
    "import time\n",
    "\n",
    "print('All Feature Train')\n",
    "\n",
    "start = time.time()\n",
    "lr = LogisticRegression(penalty='l2', multi_class='auto', random_state=1, solver='lbfgs')\n",
    "lr = lr.fit(X_train_std, y_train)\n",
    "print(f'   Logistic Regression Train Time: {(time.time() - start):0.3f} seconds')\n",
    "\n",
    "start = time.time()\n",
    "svm = SVC(kernel='rbf', C=5.0, gamma=0.02, random_state=1)\n",
    "svm = svm.fit(X_train_std, y_train)\n",
    "print(f'   Suppor Vector Machine Train Time: {(time.time() - start):0.3f} seconds')\n",
    "\n",
    "start = time.time()\n",
    "forest = RandomForestClassifier(n_estimators=5, random_state=1, n_jobs=2)\n",
    "forest = forest.fit(X_train_std, y_train)\n",
    "print(f'   Random Forest Train Time: {(time.time() - start):0.3f} seconds')\n",
    "\n",
    "\n",
    "print('\\nSelected Feature Train')\n",
    "\n",
    "start = time.time()\n",
    "lr1 = LogisticRegression(penalty='l1', multi_class='auto', random_state=1, solver='liblinear')\n",
    "lr1 = lr1.fit(X1_train_std, y1_train)\n",
    "print(f'   Logistic Regression Train Time: {(time.time() - start):0.3f} seconds')\n",
    "\n",
    "start = time.time()\n",
    "svm1 = SVC(kernel='rbf', C=5.0, gamma=0.02, random_state=1)\n",
    "svm1 = svm1.fit(X1_train_std, y1_train)\n",
    "print(f'   Suppor Vector Machine Train Time: {(time.time() - start):0.3f} seconds')\n",
    "\n",
    "start = time.time()\n",
    "forest1 = RandomForestClassifier(n_estimators=5, random_state=1, n_jobs=2)\n",
    "forest1 = forest1.fit(X1_train_std, y1_train)\n",
    "print(f'   Random Forest Train Time: {(time.time() - start):0.3f} seconds')"
   ]
  },
  {
   "cell_type": "markdown",
   "id": "4b0df948",
   "metadata": {},
   "source": [
    "From the results above, we can show the runtime performance between the all the features and the selected features:\n",
    "    \n",
    "    Logistic Regression: 61.76% decrease in runtime\n",
    "   \n",
    "    Support Vector Machine: 153.19% increase in runtime\n",
    "   \n",
    "    Random Forest: 59.98% decrease in runtime"
   ]
  },
  {
   "cell_type": "markdown",
   "id": "21038009",
   "metadata": {},
   "source": [
    "Both Logistic Regression and Random Forest improved in runtime with the selected feature split, inversely SVM increased in runtime due to fewer features because the training algorithm computes the distance betweeen each data point and decision boundary- with the fewer features, the distance calculation requires more time and resource, slowing down the training process"
   ]
  },
  {
   "cell_type": "markdown",
   "id": "18bfc13e",
   "metadata": {},
   "source": [
    "### Testing"
   ]
  },
  {
   "cell_type": "markdown",
   "id": "3de22427",
   "metadata": {},
   "source": [
    "Given the class imbalance ratio, we recommend measuring the accuracy using the Area Under the Precision-Recall Curve (AUPRC). Confusion matrix accuracy is not meaningful for unbalanced classification."
   ]
  },
  {
   "cell_type": "code",
   "execution_count": 13,
   "id": "ed50b00a",
   "metadata": {},
   "outputs": [],
   "source": [
    "from sklearn.metrics import precision_recall_curve\n",
    "from sklearn.metrics import auc\n",
    "\n",
    "def getAUC(model, X_test, y_test):\n",
    "    predict = model.predict(X_test)\n",
    "\n",
    "    precision, recall, _= precision_recall_curve(y_test, predict)\n",
    "    area = auc(recall, precision)\n",
    "\n",
    "    return area\n",
    "\n",
    "from sklearn.metrics import accuracy_score\n",
    "\n",
    "def getACC(model, x_testing, y_testing):\n",
    "    predict = model.predict(x_testing)\n",
    "    \n",
    "    miss = int((y_testing != predict).sum())\n",
    "    accuracy = accuracy_score(y_testing, predict)\n",
    "    \n",
    "    return miss, accuracy\n",
    "\n",
    "def testModel(model, x_testing, y_testing):\n",
    "    area = getAUC(model, x_testing, y_testing)\n",
    "    miss, accuracy = getACC(model, x_testing, y_testing)\n",
    "    print(f'\\t     Area: {area:0.6f}\\n\\t     Miss: {miss}/{len(y_test)}\\n\\t Accuracy: {accuracy:0.6f}')"
   ]
  },
  {
   "cell_type": "code",
   "execution_count": 14,
   "id": "533c4b65",
   "metadata": {},
   "outputs": [
    {
     "name": "stdout",
     "output_type": "stream",
     "text": [
      "All Feature Test\n",
      "   Logistic Regression:\n",
      "\t     Area: 0.753190\n",
      "\t     Miss: 68/85443\n",
      "\t Accuracy: 0.999204\n",
      "\tTest Time: 0.018 seconds\n",
      "\n",
      "   SVM:\n",
      "\t     Area: 0.857097\n",
      "\t     Miss: 42/85443\n",
      "\t Accuracy: 0.999508\n",
      "\tTrain Time: 19.411 seconds\n",
      "\n",
      "   Random Forest:\n",
      "\t     Area: 0.824336\n",
      "\t     Miss: 50/85443\n",
      "\t Accuracy: 0.999415\n",
      "\tTrain Time: 0.053 seconds\n",
      "\n",
      "Selected Feature Test\n",
      "   Logistic Regression:\n",
      "\t     Area: 0.700357\n",
      "\t     Miss: 81/85443\n",
      "\t Accuracy: 0.999052\n",
      "\tTest Time: 0.008 seconds\n",
      "\n",
      "   SVM:\n",
      "\t     Area: 0.835178\n",
      "\t     Miss: 47/85443\n",
      "\t Accuracy: 0.999450\n",
      "\tTrain Time: 3.485 seconds\n",
      "\n",
      "   Random Forest:\n",
      "\t     Area: 0.824336\n",
      "\t     Miss: 50/85443\n",
      "\t Accuracy: 0.999415\n",
      "\tTrain Time: 0.048 seconds\n"
     ]
    }
   ],
   "source": [
    "print(f'All Feature Test')\n",
    "\n",
    "print('   Logistic Regression:')\n",
    "start = time.time()\n",
    "testModel(lr, X_test_std, y_test)\n",
    "print(f'\\tTest Time: {(time.time() - start):0.3f} seconds')\n",
    "\n",
    "start = time.time()\n",
    "print('\\n   SVM:')\n",
    "testModel(svm, X_test_std, y_test)\n",
    "print(f'\\tTrain Time: {(time.time() - start):0.3f} seconds')\n",
    "\n",
    "start = time.time()\n",
    "print('\\n   Random Forest:')\n",
    "testModel(forest, X_test_std, y_test)\n",
    "print(f'\\tTrain Time: {(time.time() - start):0.3f} seconds')\n",
    "\n",
    "print(f'\\nSelected Feature Test')\n",
    "\n",
    "print('   Logistic Regression:')\n",
    "start = time.time()\n",
    "testModel(lr1, X1_test_std, y1_test)\n",
    "print(f'\\tTest Time: {(time.time() - start):0.3f} seconds')\n",
    "\n",
    "start = time.time()\n",
    "print('\\n   SVM:')\n",
    "testModel(svm1, X1_test_std, y1_test)\n",
    "print(f'\\tTrain Time: {(time.time() - start):0.3f} seconds')\n",
    "\n",
    "start = time.time()\n",
    "print('\\n   Random Forest:')\n",
    "testModel(forest1, X1_test_std, y1_test)\n",
    "print(f'\\tTrain Time: {(time.time() - start):0.3f} seconds')"
   ]
  },
  {
   "cell_type": "markdown",
   "id": "133dba8f",
   "metadata": {},
   "source": [
    "From the model testing results above, we can see that:\n",
    "\n",
    "    Logistic Regression had a 7.015% decrease in AUC and 13 more missclassifications for the trade off of 0.10 seconds (~50% of the runtime) between all of the features and the selected features\n",
    "    \n",
    "    SVM had a 2.557% decrease in AUC and 5 more missclassifications for the trade off of 15.331 seconds (19% of the run time) between all of the features and the selected features\n",
    "    \n",
    "    Random Forest had the same performance for AUC and accuracy with the improvement of 0.08 seconds between all of the features and the selected features"
   ]
  },
  {
   "cell_type": "markdown",
   "id": "4050dcff",
   "metadata": {},
   "source": [
    "For the models we learned in the course (Logistic Regression, SVM, and Random Forest), we can see that both SVM and Random Forest were comparible in terms of AUPRC and Accuracy Results. SVM had the best performance for the highest amount of resources (features and runtime) while Random Forest was a close in AUPRC and Accuracy with much better runtime even with only the selected features.\n"
   ]
  },
  {
   "cell_type": "markdown",
   "id": "47233ee7",
   "metadata": {},
   "source": [
    "### Additional Models"
   ]
  },
  {
   "cell_type": "markdown",
   "id": "bb9a6447",
   "metadata": {},
   "source": [
    "In additional to the models we learned in the course, I would like to test the capabilities of gradient boosting and neural network, these features will require more resources than our other models and push for the best accuracy. When working with financial transactions, it would be much better to maximize the true positive and minimize the false positives to avoid disabling someones payment method on a missclassification."
   ]
  },
  {
   "cell_type": "markdown",
   "id": "9a893d7d",
   "metadata": {},
   "source": [
    "#### Gradient Boosting"
   ]
  },
  {
   "cell_type": "code",
   "execution_count": 37,
   "id": "52394b40",
   "metadata": {},
   "outputs": [
    {
     "name": "stdout",
     "output_type": "stream",
     "text": [
      "All Feature Train\n",
      "   Gradient Boosting Train Time: 192.863 seconds\n",
      "\n",
      "Selected Feature Train\n",
      "   Gradient Boosting Train Time: 39.179 seconds\n"
     ]
    }
   ],
   "source": [
    "from sklearn.ensemble import GradientBoostingClassifier\n",
    "\n",
    "print('All Feature Train')\n",
    "\n",
    "start = time.time()\n",
    "gb = GradientBoostingClassifier(n_estimators=20, learning_rate=0.1, max_depth=10, random_state=1)\n",
    "gb = gb.fit(X_train_std, y_train)\n",
    "print(f'   Gradient Boosting Train Time: {(time.time() - start):0.3f} seconds')\n",
    "\n",
    "print('\\nSelected Feature Train')\n",
    "\n",
    "start = time.time()\n",
    "gb1 = GradientBoostingClassifier(n_estimators=20, learning_rate=0.1, max_depth=10, random_state=1)\n",
    "gb1 = gb1.fit(X1_train_std, y1_train)\n",
    "print(f'   Gradient Boosting Train Time: {(time.time() - start):0.3f} seconds')"
   ]
  },
  {
   "cell_type": "code",
   "execution_count": 39,
   "id": "cdfbaa0a",
   "metadata": {},
   "outputs": [
    {
     "name": "stdout",
     "output_type": "stream",
     "text": [
      "All Feature Test\n",
      "   Gradient Boosting:\n",
      "\t     Area: 0.788511\n",
      "\t     Miss: 60/85443\n",
      "\t Accuracy: 0.999298\n",
      "\tTest Time: 0.093 seconds\n",
      "\n",
      "Selected Feature Test\n",
      "   Gradient Boosting:\n",
      "\t     Area: 0.747700\n",
      "\t     Miss: 75/85443\n",
      "\t Accuracy: 0.999122\n",
      "\tTest Time: 0.097 seconds\n"
     ]
    }
   ],
   "source": [
    "print(f'All Feature Test')\n",
    "\n",
    "print('   Gradient Boosting:')\n",
    "start = time.time()\n",
    "testModel(gb, X_test_std, y_test)\n",
    "print(f'\\tTest Time: {(time.time() - start):0.3f} seconds')\n",
    "\n",
    "print(f'\\nSelected Feature Test')\n",
    "\n",
    "print('   Gradient Boosting:')\n",
    "start = time.time()\n",
    "testModel(gb1, X1_test_std, y1_test)\n",
    "print(f'\\tTest Time: {(time.time() - start):0.3f} seconds')"
   ]
  },
  {
   "cell_type": "markdown",
   "id": "7f07d5a6",
   "metadata": {},
   "source": [
    "Here for the Gradient Boosting classifier, I examined the parameters for n_estimator, learning_rate and max_depth to maximize area and minimize misscalculation. \n",
    "\n",
    "The n estimators performed worse at higher n, n at 100 or 200 performed 3x worse, especially with selected features\n",
    "\n",
    "The learning rate at 0.1 was best fitted as a lower learning rate did not give it enough variance to escape local minimums and produced higher miss classifications.\n",
    "\n",
    "The max depth performed best around 10 depth with fall off performance at 5 and 15\n",
    "\n",
    "A big take away from all of the hyperparameter comparisons is that- because Gradient Boosting is a more complicated model, we can definitely see the runtime for training scale much higher while its runtime for testing is relatively swift"
   ]
  },
  {
   "cell_type": "markdown",
   "id": "5dbb3e8a",
   "metadata": {},
   "source": [
    "#### Neural Network - Multi-Layered Perceptron"
   ]
  },
  {
   "cell_type": "code",
   "execution_count": 69,
   "id": "1de8b8a8",
   "metadata": {},
   "outputs": [
    {
     "name": "stdout",
     "output_type": "stream",
     "text": [
      "All Feature Train\n",
      "   NNMLP Train Time: 2.056 seconds\n",
      "\n",
      "Selected Feature Train\n",
      "   NNMLP Train Time: 2.447 seconds\n"
     ]
    }
   ],
   "source": [
    "from sklearn.neural_network import MLPClassifier\n",
    "\n",
    "print('All Feature Train')\n",
    "\n",
    "start = time.time()\n",
    "nn = MLPClassifier(solver='lbfgs', alpha=1e-5, hidden_layer_sizes=(5), max_iter=100)\n",
    "nn = nn.fit(X_train_std, y_train)\n",
    "print(f'   NNMLP Train Time: {(time.time() - start):0.3f} seconds')\n",
    "\n",
    "print('\\nSelected Feature Train')\n",
    "\n",
    "start = time.time()\n",
    "nn1 = MLPClassifier(solver='lbfgs', alpha=1e-5, hidden_layer_sizes=(5), max_iter=100)\n",
    "nn1 = nn1.fit(X1_train_std, y1_train)\n",
    "print(f'   NNMLP Train Time: {(time.time() - start):0.3f} seconds')"
   ]
  },
  {
   "cell_type": "code",
   "execution_count": 70,
   "id": "f8e4df44",
   "metadata": {
    "scrolled": true
   },
   "outputs": [
    {
     "name": "stdout",
     "output_type": "stream",
     "text": [
      "All Feature Test\n",
      "   NNMLP:\n",
      "\t     Area: 0.835831\n",
      "\t     Miss: 47/85443\n",
      "\t Accuracy: 0.999450\n",
      "\tTest Time: 0.030 seconds\n",
      "\n",
      "Selected Feature Test\n",
      "   NNMLP:\n",
      "\t     Area: 0.789726\n",
      "\t     Miss: 59/85443\n",
      "\t Accuracy: 0.999309\n",
      "\tTest Time: 0.018 seconds\n"
     ]
    }
   ],
   "source": [
    "print(f'All Feature Test')\n",
    "\n",
    "print('   NNMLP:')\n",
    "start = time.time()\n",
    "testModel(nn, X_test_std, y_test)\n",
    "print(f'\\tTest Time: {(time.time() - start):0.3f} seconds')\n",
    "\n",
    "print(f'\\nSelected Feature Test')\n",
    "\n",
    "print('   NNMLP:')\n",
    "start = time.time()\n",
    "testModel(nn1, X1_test_std, y1_test)\n",
    "print(f'\\tTest Time: {(time.time() - start):0.3f} seconds')"
   ]
  },
  {
   "cell_type": "markdown",
   "id": "17f71dc6",
   "metadata": {},
   "source": [
    "The Multi-layered Perceptron Neural Network Model was incredibly surprising, the model was super fast in training and testing while producing really good AUPRC Area and Low Missclassification in the all feature test. A downside of this model is that the results of the tests are a bit volatile, reruns of the same code could change the performance by 3-7 missclassifications."
   ]
  },
  {
   "cell_type": "markdown",
   "id": "6841e54e",
   "metadata": {},
   "source": [
    "### Results"
   ]
  },
  {
   "cell_type": "markdown",
   "id": "1c244506",
   "metadata": {},
   "source": [
    "For model testing, the author of the credit card fraud detection data recommended using AUPRC because the confusion matrix accuracy is not meaningful for unbalanced classification. In addition we wanted to highlight the accuracy and missclassification of the models as false possitives could have large consequences in the real world.\n",
    "\n",
    "Overall, each model hyperparameter was selected to optimize the area and accuracy. The hyperparameters were kept the same across the same model to measure accuracy vs runtime between the full feature and selected feature splits.\n",
    "\n",
    "Based on our testings above, SVM and Neural Network models had the highest AUPRC and lowest missclassifications on the full features, and the Neural Network model blitzed SVM runtime in both training and testing.\n",
    "\n",
    "In the selected feature testing, Random Forest performed the best and was able to capitalize on the runtime improvements while maintaining the good AUPRC and accuracy. Part of the Random Forest performing consistently especially in the selected feature test could be correlated with using the Random Forest Classifier during the important feature selection earlier."
   ]
  }
 ],
 "metadata": {
  "kernelspec": {
   "display_name": "Python 3 (ipykernel)",
   "language": "python",
   "name": "python3"
  },
  "language_info": {
   "codemirror_mode": {
    "name": "ipython",
    "version": 3
   },
   "file_extension": ".py",
   "mimetype": "text/x-python",
   "name": "python",
   "nbconvert_exporter": "python",
   "pygments_lexer": "ipython3",
   "version": "3.10.9"
  }
 },
 "nbformat": 4,
 "nbformat_minor": 5
}
